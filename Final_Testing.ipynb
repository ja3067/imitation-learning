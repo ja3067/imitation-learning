{
 "cells": [
  {
   "cell_type": "code",
   "execution_count": 1,
   "metadata": {},
   "outputs": [],
   "source": [
    "import torch\n",
    "import cv2\n",
    "import numpy as np\n",
    "from bipedal_walker import BipedalWalker2\n",
    "from oneshot import VisualModel\n",
    "import os"
   ]
  },
  {
   "cell_type": "code",
   "execution_count": 25,
   "metadata": {},
   "outputs": [
    {
     "name": "stdout",
     "output_type": "stream",
     "text": [
      "136\n",
      "153\n",
      "122\n",
      "120\n",
      "141\n",
      "140\n",
      "185\n",
      "143\n",
      "121\n",
      "217\n",
      "153\n",
      "100\n",
      "164\n",
      "138\n",
      "147\n",
      "129\n",
      "141\n",
      "83\n",
      "148\n",
      "[136, 153, 122, 120, 141, 140, 185, 143, 121, 217, 153, 100, 164, 138, 147, 129, 141, 83, 148]\n"
     ]
    }
   ],
   "source": [
    "def normalize(img):\n",
    "    img = img.astype('float32')\n",
    "    img /= 255.\n",
    "    return img\n",
    "\n",
    "trained_model_path = os.path.expanduser(\"~/Documents/imitation-learning/models/model-naive-all-900.pth\")\n",
    "\n",
    "os.environ[\"DISPLAY\"]=\":99\"\n",
    "num_epochs = 1000 \n",
    "dims = (150, 135)\n",
    "save_path = \"./test_no_state1/\"\n",
    "\n",
    "#model = VisualModel().cuda()\n",
    "model = torch.load(trained_model_path).cuda()\n",
    "bipedal = BipedalWalker2(actor_path='./ddpg_bipedal/checkpoint_actor2.pth', critic_path='./ddpg_bipedal/checkpoint_critic2.pth')\n",
    "\n",
    "results = []\n",
    "for j in range(20):\n",
    "    # init\n",
    "    state = torch.as_tensor(bipedal.env.reset().astype('float32')).unsqueeze(0).cuda()\n",
    "    env_img = bipedal.env.render(mode='rgb_array')\n",
    "    # CHANGE POS\n",
    "    \"\"\"\n",
    "    bipedal.env.hull.position[0] = 14\n",
    "    for i in range(5):\n",
    "        bipedal.env.step(action)  \n",
    "    # END CHANGE POS\n",
    "    \"\"\"\n",
    "\n",
    "    env_img = cv2.resize(env_img, dims)\n",
    "    env_img = normalize(np.transpose(env_img, (2, 0, 1)).copy())\n",
    "    env_img = torch.as_tensor(env_img)\n",
    "    env_img = env_img.unsqueeze(0).cuda()\n",
    "\n",
    "    for i in range(num_epochs):\n",
    "        action = model(env_img, state)\n",
    "        action = action.detach().cpu().numpy()[0]\n",
    "        next_state, done = bipedal.move_bipedal(action)\n",
    "        next_state = next_state.astype('float32')\n",
    "        state =  torch.as_tensor(next_state).unsqueeze(0).cuda()\n",
    "        env_img = normalize(bipedal.save_img(i, save_path))\n",
    "        env_img = cv2.resize(env_img, dims)\n",
    "        env_img = np.expand_dims(np.transpose(env_img, (2, 0, 1)), axis=0)\n",
    "        env_img = torch.as_tensor(env_img).cuda()\n",
    "        if done:\n",
    "            print(i)\n",
    "            results.append(i)\n",
    "            break\n",
    "\n",
    "bipedal.close()\n",
    "\n",
    "print(results)"
   ]
  },
  {
   "cell_type": "code",
   "execution_count": 24,
   "metadata": {},
   "outputs": [
    {
     "data": {
      "text/plain": [
       "130.2"
      ]
     },
     "execution_count": 24,
     "metadata": {},
     "output_type": "execute_result"
    }
   ],
   "source": [
    "results_1601 = [164, 90, 165, 150, 149, 106, 129, 131, 126, 158, 94, 150, 110, 107, 141, 140, 126, 116, 137, 115]\n",
    "sum(results) / len(results)"
   ]
  },
  {
   "cell_type": "code",
   "execution_count": null,
   "metadata": {},
   "outputs": [],
   "source": []
  }
 ],
 "metadata": {
  "kernelspec": {
   "display_name": "Python 3",
   "language": "python",
   "name": "python3"
  },
  "language_info": {
   "codemirror_mode": {
    "name": "ipython",
    "version": 3
   },
   "file_extension": ".py",
   "mimetype": "text/x-python",
   "name": "python",
   "nbconvert_exporter": "python",
   "pygments_lexer": "ipython3",
   "version": "3.7.4"
  }
 },
 "nbformat": 4,
 "nbformat_minor": 2
}
