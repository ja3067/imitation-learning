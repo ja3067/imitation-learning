{
 "cells": [
  {
   "cell_type": "code",
   "execution_count": 65,
   "metadata": {},
   "outputs": [],
   "source": [
    "import gym\n",
    "import os\n",
    "import cv2\n",
    "from IPython import display\n",
    "import matplotlib\n",
    "import matplotlib.pyplot as plt\n",
    "from matplotlib import animation\n",
    "import numpy as np\n",
    "%matplotlib inline"
   ]
  },
  {
   "cell_type": "code",
   "execution_count": 8,
   "metadata": {},
   "outputs": [
    {
     "data": {
      "text/plain": [
       "<Figure size 432x288 with 0 Axes>"
      ]
     },
     "metadata": {},
     "output_type": "display_data"
    }
   ],
   "source": [
    "fig = plt.figure()\n",
    "env = gym.make('BipedalWalker-v2')\n",
    "bins = np.random.randn(2, 1, 1, 6, 3)  # action, x, x', theta, theta'\n",
    "\n",
    "bounds = list(zip(env.observation_space.low, env.observation_space.high))\n",
    "bounds = np.asarray(bounds)\n",
    "#num_bins = (1, 1, 6, 3)\n",
    "bin_size = (bounds[:, 1] - bounds[:, 0]) #/ np.array(num_bins)\n",
    "\n",
    "num_episodes = 500\n",
    "MIN_EXPLORE_RATE = 0.01\n",
    "MIN_LEARNING_RATE = 0.1\n",
    "discount_factor = .7\n",
    "\n",
    "total_reward = 0\n",
    "\n",
    "DEBUG_MODE = False\n",
    "save_img = True"
   ]
  },
  {
   "cell_type": "code",
   "execution_count": 13,
   "metadata": {},
   "outputs": [],
   "source": [
    "def init(env):\n",
    "    env.render(mode='rgb_array')\n",
    "    env.reset()\n",
    "    arr = env.render(mode='rgb_array')\n",
    "    img = plt.imshow(arr) \n",
    "    return img\n",
    "\n",
    "def animate(env, i, img, save=False, path=None):\n",
    "    img.set_data(env.render(mode='rgb_array')) # just update the data\n",
    "    display.display(plt.gcf())\n",
    "    display.clear_output(wait=True)\n",
    "    #action = env.action_space.sample()\n",
    "    #env.step(action)\n",
    "    arr = env.render(mode='rgb_array')\n",
    "    img = plt.imshow(arr)\n",
    "    if save:\n",
    "        plt.savefig(path)\n",
    "    return img"
   ]
  },
  {
   "cell_type": "markdown",
   "metadata": {},
   "source": [
    "## Turn photo frames into a video"
   ]
  },
  {
   "cell_type": "code",
   "execution_count": 53,
   "metadata": {},
   "outputs": [],
   "source": [
    "image_folder = './walker701'\n",
    "video_name = 'walker1.avi'\n",
    "dims = (150, 135)\n",
    "def photos_to_video(image_folder, video_name, crop=True):\n",
    "    images = sorted([img for img in os.listdir(image_folder) if img.endswith(\".png\")], key=lambda x: int(x[4:-4]))\n",
    "    frame = cv2.imread(os.path.join(image_folder, images[0]))\n",
    "    if crop:\n",
    "        frame = frame[80:-40,60:270]\n",
    "    frame = cv2.resize(frame, dims)\n",
    "    height, width, layers = frame.shape\n",
    "\n",
    "    video = cv2.VideoWriter(video_name, 0, 1, (width,height))\n",
    "\n",
    "    for image in images:\n",
    "        frame = cv2.imread(os.path.join(image_folder, image))\n",
    "        if crop:\n",
    "            frame = frame[80:-40,60:270]\n",
    "        frame = cv2.resize(frame, dims)\n",
    "        video.write(frame)\n",
    "\n",
    "    cv2.destroyAllWindows()\n",
    "    video.release()\n",
    "\n",
    "def downsample_photos(image_folder):\n",
    "    \"\"\"Crop and downsample photos\"\"\"\n",
    "    images = sorted([img for img in os.listdir(image_folder) if img.endswith(\".png\")], key=lambda x: int(x[4:-4]))\n",
    "    for image in images:\n",
    "        path = os.path.join(image_folder, image)\n",
    "        frame = cv2.imread(path)\n",
    "        frame = cv2.resize(frame, dims)\n",
    "        cv2.imwrite(path, frame)"
   ]
  },
  {
   "cell_type": "code",
   "execution_count": 69,
   "metadata": {},
   "outputs": [],
   "source": [
    "paths = [1401, 1601, 1801, 2001, 2201, 2401, 2601, 2801, 3001, 3201, 3401, 3601, 3801, 4001, 4201, 4401, 4601, 4801]\n",
    "for p in paths:\n",
    "    downsample_photos(\"./walker_new{}/\".format(p))"
   ]
  },
  {
   "cell_type": "code",
   "execution_count": 59,
   "metadata": {},
   "outputs": [
    {
     "name": "stdout",
     "output_type": "stream",
     "text": [
      "(135, 150, 3)\n"
     ]
    },
    {
     "data": {
      "text/plain": [
       "<matplotlib.image.AxesImage at 0x7fdac7699d10>"
      ]
     },
     "execution_count": 59,
     "metadata": {},
     "output_type": "execute_result"
    },
    {
     "data": {
      "image/png": "[encoded data removed]",
      "text/plain": [
       "<Figure size 432x288 with 1 Axes>"
      ]
     },
     "metadata": {
      "needs_background": "light"
     },
     "output_type": "display_data"
    }
   ],
   "source": [
    "arr = cv2.imread(\"./walker_new201/img_1.png\")\n",
    "#frame = cv2.resize(arr, (150, 135))\n",
    "print(arr.shape)\n",
    "#print(frame.shape)\n",
    "plt.imshow(arr)"
   ]
  },
  {
   "cell_type": "code",
   "execution_count": 32,
   "metadata": {},
   "outputs": [
    {
     "data": {
      "text/plain": [
       "<matplotlib.image.AxesImage at 0x7fdac7919cd0>"
      ]
     },
     "execution_count": 32,
     "metadata": {},
     "output_type": "execute_result"
    },
    {
     "data": {
      "image/png": "[encoded data removed]",
      "text/plain": [
       "<Figure size 432x288 with 1 Axes>"
      ]
     },
     "metadata": {
      "needs_background": "light"
     },
     "output_type": "display_data"
    }
   ],
   "source": [
    "image_folder = './walker1401'\n",
    "arr = cv2.imread(image_folder + \"/img_8.png\")[40:-40,130:-120]\n",
    "plt.imshow(arr)"
   ]
  },
  {
   "cell_type": "code",
   "execution_count": null,
   "metadata": {},
   "outputs": [],
   "source": []
  }
 ],
 "metadata": {
  "kernelspec": {
   "display_name": "Python 3",
   "language": "python",
   "name": "python3"
  },
  "language_info": {
   "codemirror_mode": {
    "name": "ipython",
    "version": 3
   },
   "file_extension": ".py",
   "mimetype": "text/x-python",
   "name": "python",
   "nbconvert_exporter": "python",
   "pygments_lexer": "ipython3",
   "version": "3.7.4"
  }
 },
 "nbformat": 4,
 "nbformat_minor": 2
}
